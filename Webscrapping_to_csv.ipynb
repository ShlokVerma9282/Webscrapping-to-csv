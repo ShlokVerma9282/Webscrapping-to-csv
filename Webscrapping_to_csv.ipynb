{
  "nbformat": 4,
  "nbformat_minor": 0,
  "metadata": {
    "colab": {
      "provenance": []
    },
    "kernelspec": {
      "name": "python3",
      "display_name": "Python 3"
    },
    "language_info": {
      "name": "python"
    }
  },
  "cells": [
    {
      "cell_type": "code",
      "execution_count": null,
      "metadata": {
        "id": "0fM0Qw1FWkxE"
      },
      "outputs": [],
      "source": [
        "from bs4 import BeautifulSoup\n",
        "import requests\n",
        "from csv import writer\n",
        "\n",
        "url= \"https://www.pararius.com/apartments/amsterdam?ac=1\"\n",
        "page = requests.get(url)\n",
        "\n",
        "soup = BeautifulSoup(page.content, 'html.parser')\n",
        "lists = soup.find_all('section', class_=\"listing-search-item\")\n",
        "\n",
        "with open('housing.csv', 'w', encoding='utf8', newline='') as f:\n",
        "    thewriter = writer(f)\n",
        "    header = ['Title', 'Location', 'Price', 'Area']\n",
        "    thewriter.writerow(header)\n",
        "\n",
        "    for list in lists:\n",
        "        title = list.find('a', class_=\"listing-search-item__link--title\").text.replace('\\n', '')\n",
        "        location = list.find('div', class_=\"listing-search-item__location\").text.replace('\\n', '')\n",
        "        price = list.find('span', class_=\"listing-search-item__price\").text.replace('\\n', '')\n",
        "        area = list.find('span', class_=\"illustrated-features__description\").text.replace('\\n', '')\n",
        "        \n",
        "        info = [title, location, price, area]\n",
        "        thewriter.writerow(info)"
      ]
    }
  ]
}